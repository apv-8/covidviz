{
 "cells": [
  {
   "cell_type": "markdown",
   "metadata": {},
   "source": [
    "# Deaths above or below normal\n",
    "> Making a layered chart comprising an bar chart of weekly excess deaths, a tick chart of weekly COVID-19 deaths and a rectangle chart highlighting the timeperiod when the pandemic tore through the states and cities.\n",
    "\n",
    "- toc: false\n",
    "- hide: false\n",
    "- branch: master\n",
    "- badges: true\n",
    "- comments: false\n",
    "- author: Shantam Raj\n",
    "- categories: []\n",
    "- image: images/above_below_normal.png"
   ]
  },
  {
   "cell_type": "markdown",
   "metadata": {},
   "source": [
    "We will make charts from the NYT article on [What Is the Real Coronavirus Death Toll in Each State?](https://www.nytimes.com/interactive/2020/05/05/us/coronavirus-death-toll-us.html)\n",
    "\n",
    "The charts look like the following -  \n",
    "![deaths above or below normal](images/above_below_normal.png)"
   ]
  },
  {
   "cell_type": "markdown",
   "metadata": {},
   "source": [
    "**Whats the purpose of this visualization?**\n",
    "\n",
    "> Comparing recent totals of deaths from all causes can provide a more complete picture of the pandemic’s impact than tracking only deaths of people with confirmed diagnoses. Epidemiologists refer to fatalities in the gap between the observed and normal numbers of deaths as “excess deaths.” \n",
    "\n",
    "> Indeed, in nearly every state with an unusual number of deaths in recent weeks, that number is higher than the state’s reported number of deaths from Covid-19. On our charts, we have marked the number of official coronavirus deaths with red lines, so you can see how they match up with the total number of excess deaths. \n",
    "\n",
    "> Measuring excess deaths is crude because it does not capture all the details of how people died. But many epidemiologists believe it is the best way to measure the impact of the virus in real time. It shows how the virus is altering normal patterns of mortality where it strikes and undermines arguments that it is merely killing vulnerable people who would have died anyway. \n",
    "\n",
    "> Public health researchers use such methods to measure the impact of catastrophic events when official measures of mortality are flawed. \n",
    "\n",
    "> Measuring excess deaths does not tell us precisely how each person died. It is likely that most of the excess deaths in this period are because of the coronavirus itself, given the dangerousness of the virus and the well-documented problems with testing. But it is also possible that deaths from other causes have risen too, as hospitals have become stressed and people have been scared to seek care for ailments that are typically survivable. Some causes of death may be declining, as people stay inside more, drive less and limit their contact with others. "
   ]
  },
  {
   "cell_type": "markdown",
   "metadata": {},
   "source": [
    "We will use 2 datasets to generate our chart -\n",
    "\n",
    "1. The excess deaths dataset from NYT\n",
    "2. The COVID-19 deaths dataset also from NYT\n",
    "\n",
    "Luckily both are in the same GitHub repository - [NYT Covid-19 Data](https://github.com/nytimes/covid-19-data)\n",
    "However we need to do some significant preprocessing to arrive at the results. It took me a good amount of time to figure out the whole graph and once I had done it it just made so much sense :relieved:"
   ]
  },
  {
   "cell_type": "markdown",
   "metadata": {},
   "source": [
    "The way these graphs are made is as follows -\n",
    "\n",
    "1. First we chart the excess deaths. Excess deaths is calculated as the difference b/w all cause mortality data with expected deaths. These data are available from CDC().\n",
    "2. NYT publishes the excess deaths data for NYC, so for starters we will use that before moving on to the other states.\n",
    "3. Then we need to get the covid-19 related deaths from NYC which we can get from the NYT dataset or JHU CSSE dataset.\n",
    "4. The challenge is actually combining the above."
   ]
  },
  {
   "cell_type": "markdown",
   "metadata": {},
   "source": [
    "#### How do we combine the above data?\n",
    "The excess deaths data is weekly. With the starting and ending dates given (7 days duration), so what we are gonna do is we have to transform the COVID-19 deaths data in the same weekly format."
   ]
  },
  {
   "cell_type": "code",
   "execution_count": 46,
   "metadata": {},
   "outputs": [],
   "source": [
    "import pandas as pd\n",
    "import numpy as np\n",
    "import altair as alt\n",
    "\n",
    "excess_uri = 'https://raw.githubusercontent.com/nytimes/covid-19-data/master/excess-deaths/deaths.csv'\n",
    "county_uri = 'https://raw.githubusercontent.com/nytimes/covid-19-data/master/us-counties.csv'\n",
    "\n",
    "ex_df = pd.read_csv(excess_uri)\n",
    "co_df = pd.read_csv(county_uri)\n"
   ]
  },
  {
   "cell_type": "markdown",
   "metadata": {},
   "source": [
    "Extracting data for NYC for year 2020 -"
   ]
  },
  {
   "cell_type": "code",
   "execution_count": 47,
   "metadata": {},
   "outputs": [],
   "source": [
    "# collapse_show\n",
    "ex_nyc = ex_df[(ex_df['placename'] == 'New York City')]\n",
    "ex_nyc['year'] = ex_nyc['year'].astype(int)\n",
    "ex_nyc = ex_nyc[ex_nyc['year'] == 2020]\n"
   ]
  },
  {
   "cell_type": "code",
   "execution_count": 48,
   "metadata": {},
   "outputs": [],
   "source": [
    "# collapse_show\n",
    "excess_deaths_chart = alt.Chart(ex_nyc).mark_bar(width=5).encode(\n",
    "    x='week:N',\n",
    "    y='excess_deaths:Q',\n",
    "    color = alt.condition(alt.datum.excess_deaths>0, alt.value('orange'), alt.value('steelblue'))\n",
    ").properties(height=500, width=alt.Step(10))"
   ]
  },
  {
   "cell_type": "code",
   "execution_count": 49,
   "metadata": {},
   "outputs": [
    {
     "output_type": "execute_result",
     "data": {
      "text/html": "\n<div id=\"altair-viz-2a3e96154d534b49873f2f600bf261c6\"></div>\n<script type=\"text/javascript\">\n  (function(spec, embedOpt){\n    let outputDiv = document.currentScript.previousElementSibling;\n    if (outputDiv.id !== \"altair-viz-2a3e96154d534b49873f2f600bf261c6\") {\n      outputDiv = document.getElementById(\"altair-viz-2a3e96154d534b49873f2f600bf261c6\");\n    }\n    const paths = {\n      \"vega\": \"https://cdn.jsdelivr.net/npm//vega@5?noext\",\n      \"vega-lib\": \"https://cdn.jsdelivr.net/npm//vega-lib?noext\",\n      \"vega-lite\": \"https://cdn.jsdelivr.net/npm//vega-lite@4.8.1?noext\",\n      \"vega-embed\": \"https://cdn.jsdelivr.net/npm//vega-embed@6?noext\",\n    };\n\n    function loadScript(lib) {\n      return new Promise(function(resolve, reject) {\n        var s = document.createElement('script');\n        s.src = paths[lib];\n        s.async = true;\n        s.onload = () => resolve(paths[lib]);\n        s.onerror = () => reject(`Error loading script: ${paths[lib]}`);\n        document.getElementsByTagName(\"head\")[0].appendChild(s);\n      });\n    }\n\n    function showError(err) {\n      outputDiv.innerHTML = `<div class=\"error\" style=\"color:red;\">${err}</div>`;\n      throw err;\n    }\n\n    function displayChart(vegaEmbed) {\n      vegaEmbed(outputDiv, spec, embedOpt)\n        .catch(err => showError(`Javascript Error: ${err.message}<br>This usually means there's a typo in your chart specification. See the javascript console for the full traceback.`));\n    }\n\n    if(typeof define === \"function\" && define.amd) {\n      requirejs.config({paths});\n      require([\"vega-embed\"], displayChart, err => showError(`Error loading script: ${err.message}`));\n    } else if (typeof vegaEmbed === \"function\") {\n      displayChart(vegaEmbed);\n    } else {\n      loadScript(\"vega\")\n        .then(() => loadScript(\"vega-lite\"))\n        .then(() => loadScript(\"vega-embed\"))\n        .catch(showError)\n        .then(() => displayChart(vegaEmbed));\n    }\n  })({\"config\": {\"view\": {\"continuousWidth\": 400, \"continuousHeight\": 300}}, \"data\": {\"name\": \"data-1c0c7636be2c3021a9ac05f457ba1f48\"}, \"mark\": {\"type\": \"bar\", \"width\": 5}, \"encoding\": {\"color\": {\"condition\": {\"value\": \"orange\", \"test\": \"(datum.excess_deaths > 0)\"}, \"value\": \"steelblue\"}, \"x\": {\"type\": \"nominal\", \"field\": \"week\"}, \"y\": {\"type\": \"quantitative\", \"field\": \"excess_deaths\"}}, \"height\": 500, \"width\": {\"step\": 10}, \"$schema\": \"https://vega.github.io/schema/vega-lite/v4.8.1.json\", \"datasets\": {\"data-1c0c7636be2c3021a9ac05f457ba1f48\": [{\"country\": \"United States\", \"placename\": \"New York City\", \"frequency\": \"weekly\", \"start_date\": \"2020-01-05\", \"end_date\": \"2020-01-11\", \"year\": 2020, \"month\": 1, \"week\": 2.0, \"deaths\": 1086, \"expected_deaths\": 1194.0, \"excess_deaths\": -108.0, \"baseline\": \"2017-2019 weekly average\"}, {\"country\": \"United States\", \"placename\": \"New York City\", \"frequency\": \"weekly\", \"start_date\": \"2020-01-12\", \"end_date\": \"2020-01-18\", \"year\": 2020, \"month\": 1, \"week\": 3.0, \"deaths\": 1130, \"expected_deaths\": 1145.0, \"excess_deaths\": -15.0, \"baseline\": \"2017-2019 weekly average\"}, {\"country\": \"United States\", \"placename\": \"New York City\", \"frequency\": \"weekly\", \"start_date\": \"2020-01-19\", \"end_date\": \"2020-01-25\", \"year\": 2020, \"month\": 1, \"week\": 4.0, \"deaths\": 1164, \"expected_deaths\": 1191.0, \"excess_deaths\": -27.0, \"baseline\": \"2017-2019 weekly average\"}, {\"country\": \"United States\", \"placename\": \"New York City\", \"frequency\": \"weekly\", \"start_date\": \"2020-01-26\", \"end_date\": \"2020-02-01\", \"year\": 2020, \"month\": 2, \"week\": 5.0, \"deaths\": 1145, \"expected_deaths\": 1137.0, \"excess_deaths\": 8.0, \"baseline\": \"2017-2019 weekly average\"}, {\"country\": \"United States\", \"placename\": \"New York City\", \"frequency\": \"weekly\", \"start_date\": \"2020-02-02\", \"end_date\": \"2020-02-08\", \"year\": 2020, \"month\": 2, \"week\": 6.0, \"deaths\": 1139, \"expected_deaths\": 1199.0, \"excess_deaths\": -60.0, \"baseline\": \"2017-2019 weekly average\"}, {\"country\": \"United States\", \"placename\": \"New York City\", \"frequency\": \"weekly\", \"start_date\": \"2020-02-09\", \"end_date\": \"2020-02-15\", \"year\": 2020, \"month\": 2, \"week\": 7.0, \"deaths\": 1119, \"expected_deaths\": 1123.0, \"excess_deaths\": -4.0, \"baseline\": \"2017-2019 weekly average\"}, {\"country\": \"United States\", \"placename\": \"New York City\", \"frequency\": \"weekly\", \"start_date\": \"2020-02-16\", \"end_date\": \"2020-02-22\", \"year\": 2020, \"month\": 2, \"week\": 8.0, \"deaths\": 1055, \"expected_deaths\": 1069.0, \"excess_deaths\": -14.0, \"baseline\": \"2017-2019 weekly average\"}, {\"country\": \"United States\", \"placename\": \"New York City\", \"frequency\": \"weekly\", \"start_date\": \"2020-02-23\", \"end_date\": \"2020-02-29\", \"year\": 2020, \"month\": 2, \"week\": 9.0, \"deaths\": 1095, \"expected_deaths\": 1059.0, \"excess_deaths\": 36.0, \"baseline\": \"2017-2019 weekly average\"}, {\"country\": \"United States\", \"placename\": \"New York City\", \"frequency\": \"weekly\", \"start_date\": \"2020-03-01\", \"end_date\": \"2020-03-07\", \"year\": 2020, \"month\": 3, \"week\": 10.0, \"deaths\": 1083, \"expected_deaths\": 1075.0, \"excess_deaths\": 8.0, \"baseline\": \"2017-2019 weekly average\"}, {\"country\": \"United States\", \"placename\": \"New York City\", \"frequency\": \"weekly\", \"start_date\": \"2020-03-08\", \"end_date\": \"2020-03-14\", \"year\": 2020, \"month\": 3, \"week\": 11.0, \"deaths\": 1120, \"expected_deaths\": 1078.0, \"excess_deaths\": 42.0, \"baseline\": \"2017-2019 weekly average\"}, {\"country\": \"United States\", \"placename\": \"New York City\", \"frequency\": \"weekly\", \"start_date\": \"2020-03-15\", \"end_date\": \"2020-03-21\", \"year\": 2020, \"month\": 3, \"week\": 12.0, \"deaths\": 1384, \"expected_deaths\": 1031.0, \"excess_deaths\": 353.0, \"baseline\": \"2017-2019 weekly average\"}, {\"country\": \"United States\", \"placename\": \"New York City\", \"frequency\": \"weekly\", \"start_date\": \"2020-03-22\", \"end_date\": \"2020-03-28\", \"year\": 2020, \"month\": 3, \"week\": 13.0, \"deaths\": 2744, \"expected_deaths\": 1027.0, \"excess_deaths\": 1717.0, \"baseline\": \"2017-2019 weekly average\"}, {\"country\": \"United States\", \"placename\": \"New York City\", \"frequency\": \"weekly\", \"start_date\": \"2020-03-29\", \"end_date\": \"2020-04-04\", \"year\": 2020, \"month\": 4, \"week\": 14.0, \"deaths\": 6080, \"expected_deaths\": 1023.0, \"excess_deaths\": 5057.0, \"baseline\": \"2017-2019 weekly average\"}, {\"country\": \"United States\", \"placename\": \"New York City\", \"frequency\": \"weekly\", \"start_date\": \"2020-04-05\", \"end_date\": \"2020-04-11\", \"year\": 2020, \"month\": 4, \"week\": 15.0, \"deaths\": 7741, \"expected_deaths\": 1066.0, \"excess_deaths\": 6675.0, \"baseline\": \"2017-2019 weekly average\"}, {\"country\": \"United States\", \"placename\": \"New York City\", \"frequency\": \"weekly\", \"start_date\": \"2020-04-12\", \"end_date\": \"2020-04-18\", \"year\": 2020, \"month\": 4, \"week\": 16.0, \"deaths\": 5747, \"expected_deaths\": 1011.0, \"excess_deaths\": 4736.0, \"baseline\": \"2017-2019 weekly average\"}, {\"country\": \"United States\", \"placename\": \"New York City\", \"frequency\": \"weekly\", \"start_date\": \"2020-04-19\", \"end_date\": \"2020-04-25\", \"year\": 2020, \"month\": 4, \"week\": 17.0, \"deaths\": 3872, \"expected_deaths\": 978.0, \"excess_deaths\": 2894.0, \"baseline\": \"2017-2019 weekly average\"}, {\"country\": \"United States\", \"placename\": \"New York City\", \"frequency\": \"weekly\", \"start_date\": \"2020-04-26\", \"end_date\": \"2020-05-02\", \"year\": 2020, \"month\": 5, \"week\": 18.0, \"deaths\": 2440, \"expected_deaths\": 999.0, \"excess_deaths\": 1441.0, \"baseline\": \"2017-2019 weekly average\"}, {\"country\": \"United States\", \"placename\": \"New York City\", \"frequency\": \"weekly\", \"start_date\": \"2020-05-03\", \"end_date\": \"2020-05-09\", \"year\": 2020, \"month\": 5, \"week\": 19.0, \"deaths\": 2286, \"expected_deaths\": 985.0, \"excess_deaths\": 1301.0, \"baseline\": \"2017-2019 weekly average\"}, {\"country\": \"United States\", \"placename\": \"New York City\", \"frequency\": \"weekly\", \"start_date\": \"2020-05-10\", \"end_date\": \"2020-05-16\", \"year\": 2020, \"month\": 5, \"week\": 20.0, \"deaths\": 1656, \"expected_deaths\": 1022.0, \"excess_deaths\": 634.0, \"baseline\": \"2017-2019 weekly average\"}]}}, {\"mode\": \"vega-lite\"});\n</script>",
      "text/plain": "alt.Chart(...)"
     },
     "metadata": {},
     "execution_count": 49
    }
   ],
   "source": [
    "excess_deaths_chart"
   ]
  },
  {
   "cell_type": "markdown",
   "metadata": {},
   "source": [
    "This was the easy part and we can see that we are following the trends properly by comparing it with the NYT chart -  \n",
    "![](images/nyc_above_below_normal.png)  \n",
    "\n",
    "There are some differences, which I think is due to the fact that the dataset provided by NYT is actually slightly different than the data they have used to plot. Also there is actually more data used in the article than there is in the GitHub repo. So to make the charts look completely similar we will have to dig in the CDC dataset - which we will ignore for now."
   ]
  },
  {
   "cell_type": "markdown",
   "metadata": {},
   "source": [
    "Now we will transform the COVID-19 deaths data to weekly deaths data"
   ]
  },
  {
   "cell_type": "markdown",
   "metadata": {},
   "source": [
    "Now we will transform the COVID-19 deaths data"
   ]
  },
  {
   "cell_type": "code",
   "execution_count": 50,
   "metadata": {},
   "outputs": [],
   "source": [
    "ny_co_df = co_df[co_df['county'] == 'New York City']\n",
    "ny_co_df = ny_co_df[(ny_co_df['date'] > '2020-03-06') & (ny_co_df['date'] < '2020-05-17')]\n",
    "ny_co_df['death_per_day'] = ny_co_df['deaths'].diff()\n",
    "ny_co_df = ny_co_df[1:]\n",
    "weekly_cov_death = ny_co_df.groupby(np.arange(len(ny_co_df))//7).sum()\n",
    "weekly_cov_death['week'] = range(11,21)"
   ]
  },
  {
   "cell_type": "code",
   "execution_count": 51,
   "metadata": {},
   "outputs": [],
   "source": [
    "# collapse\n",
    "covid_tick_deaths = alt.Chart(weekly_cov_death).mark_tick(thickness=2, color='red').encode(\n",
    "    x='week:N',\n",
    "    y='death_per_day:Q'\n",
    ")"
   ]
  },
  {
   "cell_type": "code",
   "execution_count": 52,
   "metadata": {},
   "outputs": [
    {
     "output_type": "execute_result",
     "data": {
      "text/html": "\n<div id=\"altair-viz-a050afccbca743d8b97ab2c23deff4d6\"></div>\n<script type=\"text/javascript\">\n  (function(spec, embedOpt){\n    let outputDiv = document.currentScript.previousElementSibling;\n    if (outputDiv.id !== \"altair-viz-a050afccbca743d8b97ab2c23deff4d6\") {\n      outputDiv = document.getElementById(\"altair-viz-a050afccbca743d8b97ab2c23deff4d6\");\n    }\n    const paths = {\n      \"vega\": \"https://cdn.jsdelivr.net/npm//vega@5?noext\",\n      \"vega-lib\": \"https://cdn.jsdelivr.net/npm//vega-lib?noext\",\n      \"vega-lite\": \"https://cdn.jsdelivr.net/npm//vega-lite@4.8.1?noext\",\n      \"vega-embed\": \"https://cdn.jsdelivr.net/npm//vega-embed@6?noext\",\n    };\n\n    function loadScript(lib) {\n      return new Promise(function(resolve, reject) {\n        var s = document.createElement('script');\n        s.src = paths[lib];\n        s.async = true;\n        s.onload = () => resolve(paths[lib]);\n        s.onerror = () => reject(`Error loading script: ${paths[lib]}`);\n        document.getElementsByTagName(\"head\")[0].appendChild(s);\n      });\n    }\n\n    function showError(err) {\n      outputDiv.innerHTML = `<div class=\"error\" style=\"color:red;\">${err}</div>`;\n      throw err;\n    }\n\n    function displayChart(vegaEmbed) {\n      vegaEmbed(outputDiv, spec, embedOpt)\n        .catch(err => showError(`Javascript Error: ${err.message}<br>This usually means there's a typo in your chart specification. See the javascript console for the full traceback.`));\n    }\n\n    if(typeof define === \"function\" && define.amd) {\n      requirejs.config({paths});\n      require([\"vega-embed\"], displayChart, err => showError(`Error loading script: ${err.message}`));\n    } else if (typeof vegaEmbed === \"function\") {\n      displayChart(vegaEmbed);\n    } else {\n      loadScript(\"vega\")\n        .then(() => loadScript(\"vega-lite\"))\n        .then(() => loadScript(\"vega-embed\"))\n        .catch(showError)\n        .then(() => displayChart(vegaEmbed));\n    }\n  })({\"config\": {\"view\": {\"continuousWidth\": 400, \"continuousHeight\": 300}}, \"layer\": [{\"data\": {\"name\": \"data-1c0c7636be2c3021a9ac05f457ba1f48\"}, \"mark\": {\"type\": \"bar\", \"width\": 5}, \"encoding\": {\"color\": {\"condition\": {\"value\": \"orange\", \"test\": \"(datum.excess_deaths > 0)\"}, \"value\": \"steelblue\"}, \"x\": {\"type\": \"nominal\", \"field\": \"week\"}, \"y\": {\"type\": \"quantitative\", \"field\": \"excess_deaths\"}}, \"height\": 500, \"width\": {\"step\": 10}}, {\"data\": {\"name\": \"data-481968143d9f65841257de91eb280235\"}, \"mark\": {\"type\": \"tick\", \"color\": \"red\", \"thickness\": 2}, \"encoding\": {\"x\": {\"type\": \"nominal\", \"field\": \"week\"}, \"y\": {\"type\": \"quantitative\", \"field\": \"death_per_day\"}}}], \"$schema\": \"https://vega.github.io/schema/vega-lite/v4.8.1.json\", \"datasets\": {\"data-1c0c7636be2c3021a9ac05f457ba1f48\": [{\"country\": \"United States\", \"placename\": \"New York City\", \"frequency\": \"weekly\", \"start_date\": \"2020-01-05\", \"end_date\": \"2020-01-11\", \"year\": 2020, \"month\": 1, \"week\": 2.0, \"deaths\": 1086, \"expected_deaths\": 1194.0, \"excess_deaths\": -108.0, \"baseline\": \"2017-2019 weekly average\"}, {\"country\": \"United States\", \"placename\": \"New York City\", \"frequency\": \"weekly\", \"start_date\": \"2020-01-12\", \"end_date\": \"2020-01-18\", \"year\": 2020, \"month\": 1, \"week\": 3.0, \"deaths\": 1130, \"expected_deaths\": 1145.0, \"excess_deaths\": -15.0, \"baseline\": \"2017-2019 weekly average\"}, {\"country\": \"United States\", \"placename\": \"New York City\", \"frequency\": \"weekly\", \"start_date\": \"2020-01-19\", \"end_date\": \"2020-01-25\", \"year\": 2020, \"month\": 1, \"week\": 4.0, \"deaths\": 1164, \"expected_deaths\": 1191.0, \"excess_deaths\": -27.0, \"baseline\": \"2017-2019 weekly average\"}, {\"country\": \"United States\", \"placename\": \"New York City\", \"frequency\": \"weekly\", \"start_date\": \"2020-01-26\", \"end_date\": \"2020-02-01\", \"year\": 2020, \"month\": 2, \"week\": 5.0, \"deaths\": 1145, \"expected_deaths\": 1137.0, \"excess_deaths\": 8.0, \"baseline\": \"2017-2019 weekly average\"}, {\"country\": \"United States\", \"placename\": \"New York City\", \"frequency\": \"weekly\", \"start_date\": \"2020-02-02\", \"end_date\": \"2020-02-08\", \"year\": 2020, \"month\": 2, \"week\": 6.0, \"deaths\": 1139, \"expected_deaths\": 1199.0, \"excess_deaths\": -60.0, \"baseline\": \"2017-2019 weekly average\"}, {\"country\": \"United States\", \"placename\": \"New York City\", \"frequency\": \"weekly\", \"start_date\": \"2020-02-09\", \"end_date\": \"2020-02-15\", \"year\": 2020, \"month\": 2, \"week\": 7.0, \"deaths\": 1119, \"expected_deaths\": 1123.0, \"excess_deaths\": -4.0, \"baseline\": \"2017-2019 weekly average\"}, {\"country\": \"United States\", \"placename\": \"New York City\", \"frequency\": \"weekly\", \"start_date\": \"2020-02-16\", \"end_date\": \"2020-02-22\", \"year\": 2020, \"month\": 2, \"week\": 8.0, \"deaths\": 1055, \"expected_deaths\": 1069.0, \"excess_deaths\": -14.0, \"baseline\": \"2017-2019 weekly average\"}, {\"country\": \"United States\", \"placename\": \"New York City\", \"frequency\": \"weekly\", \"start_date\": \"2020-02-23\", \"end_date\": \"2020-02-29\", \"year\": 2020, \"month\": 2, \"week\": 9.0, \"deaths\": 1095, \"expected_deaths\": 1059.0, \"excess_deaths\": 36.0, \"baseline\": \"2017-2019 weekly average\"}, {\"country\": \"United States\", \"placename\": \"New York City\", \"frequency\": \"weekly\", \"start_date\": \"2020-03-01\", \"end_date\": \"2020-03-07\", \"year\": 2020, \"month\": 3, \"week\": 10.0, \"deaths\": 1083, \"expected_deaths\": 1075.0, \"excess_deaths\": 8.0, \"baseline\": \"2017-2019 weekly average\"}, {\"country\": \"United States\", \"placename\": \"New York City\", \"frequency\": \"weekly\", \"start_date\": \"2020-03-08\", \"end_date\": \"2020-03-14\", \"year\": 2020, \"month\": 3, \"week\": 11.0, \"deaths\": 1120, \"expected_deaths\": 1078.0, \"excess_deaths\": 42.0, \"baseline\": \"2017-2019 weekly average\"}, {\"country\": \"United States\", \"placename\": \"New York City\", \"frequency\": \"weekly\", \"start_date\": \"2020-03-15\", \"end_date\": \"2020-03-21\", \"year\": 2020, \"month\": 3, \"week\": 12.0, \"deaths\": 1384, \"expected_deaths\": 1031.0, \"excess_deaths\": 353.0, \"baseline\": \"2017-2019 weekly average\"}, {\"country\": \"United States\", \"placename\": \"New York City\", \"frequency\": \"weekly\", \"start_date\": \"2020-03-22\", \"end_date\": \"2020-03-28\", \"year\": 2020, \"month\": 3, \"week\": 13.0, \"deaths\": 2744, \"expected_deaths\": 1027.0, \"excess_deaths\": 1717.0, \"baseline\": \"2017-2019 weekly average\"}, {\"country\": \"United States\", \"placename\": \"New York City\", \"frequency\": \"weekly\", \"start_date\": \"2020-03-29\", \"end_date\": \"2020-04-04\", \"year\": 2020, \"month\": 4, \"week\": 14.0, \"deaths\": 6080, \"expected_deaths\": 1023.0, \"excess_deaths\": 5057.0, \"baseline\": \"2017-2019 weekly average\"}, {\"country\": \"United States\", \"placename\": \"New York City\", \"frequency\": \"weekly\", \"start_date\": \"2020-04-05\", \"end_date\": \"2020-04-11\", \"year\": 2020, \"month\": 4, \"week\": 15.0, \"deaths\": 7741, \"expected_deaths\": 1066.0, \"excess_deaths\": 6675.0, \"baseline\": \"2017-2019 weekly average\"}, {\"country\": \"United States\", \"placename\": \"New York City\", \"frequency\": \"weekly\", \"start_date\": \"2020-04-12\", \"end_date\": \"2020-04-18\", \"year\": 2020, \"month\": 4, \"week\": 16.0, \"deaths\": 5747, \"expected_deaths\": 1011.0, \"excess_deaths\": 4736.0, \"baseline\": \"2017-2019 weekly average\"}, {\"country\": \"United States\", \"placename\": \"New York City\", \"frequency\": \"weekly\", \"start_date\": \"2020-04-19\", \"end_date\": \"2020-04-25\", \"year\": 2020, \"month\": 4, \"week\": 17.0, \"deaths\": 3872, \"expected_deaths\": 978.0, \"excess_deaths\": 2894.0, \"baseline\": \"2017-2019 weekly average\"}, {\"country\": \"United States\", \"placename\": \"New York City\", \"frequency\": \"weekly\", \"start_date\": \"2020-04-26\", \"end_date\": \"2020-05-02\", \"year\": 2020, \"month\": 5, \"week\": 18.0, \"deaths\": 2440, \"expected_deaths\": 999.0, \"excess_deaths\": 1441.0, \"baseline\": \"2017-2019 weekly average\"}, {\"country\": \"United States\", \"placename\": \"New York City\", \"frequency\": \"weekly\", \"start_date\": \"2020-05-03\", \"end_date\": \"2020-05-09\", \"year\": 2020, \"month\": 5, \"week\": 19.0, \"deaths\": 2286, \"expected_deaths\": 985.0, \"excess_deaths\": 1301.0, \"baseline\": \"2017-2019 weekly average\"}, {\"country\": \"United States\", \"placename\": \"New York City\", \"frequency\": \"weekly\", \"start_date\": \"2020-05-10\", \"end_date\": \"2020-05-16\", \"year\": 2020, \"month\": 5, \"week\": 20.0, \"deaths\": 1656, \"expected_deaths\": 1022.0, \"excess_deaths\": 634.0, \"baseline\": \"2017-2019 weekly average\"}], \"data-481968143d9f65841257de91eb280235\": [{\"fips\": 0.0, \"cases\": 643, \"deaths\": 1, \"death_per_day\": 1.0, \"week\": 11}, {\"fips\": 0.0, \"cases\": 15906, \"deaths\": 208, \"death_per_day\": 74.0, \"week\": 12}, {\"fips\": 0.0, \"cases\": 136008, \"deaths\": 2654, \"death_per_day\": 750.0, \"week\": 13}, {\"fips\": 0.0, \"cases\": 338405, \"deaths\": 13537, \"death_per_day\": 2396.0, \"week\": 14}, {\"fips\": 0.0, \"cases\": 589119, \"deaths\": 44539, \"death_per_day\": 5513.0, \"week\": 15}, {\"fips\": 0.0, \"cases\": 843608, \"deaths\": 78770, \"death_per_day\": 3677.0, \"week\": 16}, {\"fips\": 0.0, \"cases\": 1034844, \"deaths\": 104439, \"death_per_day\": 3735.0, \"week\": 17}, {\"fips\": 0.0, \"cases\": 1191385, \"deaths\": 121871, \"death_per_day\": 1875.0, \"week\": 18}, {\"fips\": 0.0, \"cases\": 1288323, \"deaths\": 132418, \"death_per_day\": 1303.0, \"week\": 19}, {\"fips\": 0.0, \"cases\": 1349532, \"deaths\": 138497, \"death_per_day\": 747.0, \"week\": 20}]}}, {\"mode\": \"vega-lite\"});\n</script>",
      "text/plain": "alt.LayerChart(...)"
     },
     "metadata": {},
     "execution_count": 52
    }
   ],
   "source": [
    "excess_deaths_chart + covid_tick_deaths"
   ]
  },
  {
   "cell_type": "markdown",
   "metadata": {},
   "source": [
    "Let's beautify a little -"
   ]
  },
  {
   "cell_type": "code",
   "execution_count": 53,
   "metadata": {},
   "outputs": [],
   "source": [
    "# collapse\n",
    "excess_deaths_chart = alt.Chart(ex_nyc).mark_bar(width=9).encode(\n",
    "    x='week:N',\n",
    "    y='excess_deaths:Q',\n",
    "    color = alt.condition(alt.datum.excess_deaths>0, alt.value('#ffab00'), alt.value('#8FB8BB'))\n",
    ").properties(height=500, width=alt.Step(10))"
   ]
  },
  {
   "cell_type": "markdown",
   "metadata": {},
   "source": [
    "Lets add a rectangle from March to May to complete our chart"
   ]
  },
  {
   "cell_type": "code",
   "execution_count": 55,
   "metadata": {},
   "outputs": [],
   "source": [
    "# collapse\n",
    "source = alt.pd.DataFrame([{'start': 11, 'end': 20}])\n",
    "rect = alt.Chart(source).mark_rect(opacity=1, fill='#eee', xOffset=5, x2Offset=5).encode(\n",
    "    x='start:N',\n",
    "    x2='end:N'\n",
    ")"
   ]
  },
  {
   "cell_type": "code",
   "execution_count": 57,
   "metadata": {},
   "outputs": [
    {
     "output_type": "execute_result",
     "data": {
      "text/html": "\n<div id=\"altair-viz-b026ff1d8d4d42c69abfa1212f9aab9c\"></div>\n<script type=\"text/javascript\">\n  (function(spec, embedOpt){\n    let outputDiv = document.currentScript.previousElementSibling;\n    if (outputDiv.id !== \"altair-viz-b026ff1d8d4d42c69abfa1212f9aab9c\") {\n      outputDiv = document.getElementById(\"altair-viz-b026ff1d8d4d42c69abfa1212f9aab9c\");\n    }\n    const paths = {\n      \"vega\": \"https://cdn.jsdelivr.net/npm//vega@5?noext\",\n      \"vega-lib\": \"https://cdn.jsdelivr.net/npm//vega-lib?noext\",\n      \"vega-lite\": \"https://cdn.jsdelivr.net/npm//vega-lite@4.8.1?noext\",\n      \"vega-embed\": \"https://cdn.jsdelivr.net/npm//vega-embed@6?noext\",\n    };\n\n    function loadScript(lib) {\n      return new Promise(function(resolve, reject) {\n        var s = document.createElement('script');\n        s.src = paths[lib];\n        s.async = true;\n        s.onload = () => resolve(paths[lib]);\n        s.onerror = () => reject(`Error loading script: ${paths[lib]}`);\n        document.getElementsByTagName(\"head\")[0].appendChild(s);\n      });\n    }\n\n    function showError(err) {\n      outputDiv.innerHTML = `<div class=\"error\" style=\"color:red;\">${err}</div>`;\n      throw err;\n    }\n\n    function displayChart(vegaEmbed) {\n      vegaEmbed(outputDiv, spec, embedOpt)\n        .catch(err => showError(`Javascript Error: ${err.message}<br>This usually means there's a typo in your chart specification. See the javascript console for the full traceback.`));\n    }\n\n    if(typeof define === \"function\" && define.amd) {\n      requirejs.config({paths});\n      require([\"vega-embed\"], displayChart, err => showError(`Error loading script: ${err.message}`));\n    } else if (typeof vegaEmbed === \"function\") {\n      displayChart(vegaEmbed);\n    } else {\n      loadScript(\"vega\")\n        .then(() => loadScript(\"vega-lite\"))\n        .then(() => loadScript(\"vega-embed\"))\n        .catch(showError)\n        .then(() => displayChart(vegaEmbed));\n    }\n  })({\"config\": {\"view\": {\"continuousWidth\": 400, \"continuousHeight\": 300, \"strokeWidth\": 0}, \"axis\": {\"grid\": false}}, \"layer\": [{\"data\": {\"name\": \"data-1c0c7636be2c3021a9ac05f457ba1f48\"}, \"mark\": {\"type\": \"bar\", \"width\": 9}, \"encoding\": {\"color\": {\"condition\": {\"value\": \"#ffab00\", \"test\": \"(datum.excess_deaths > 0)\"}, \"value\": \"#8FB8BB\"}, \"x\": {\"type\": \"nominal\", \"field\": \"week\"}, \"y\": {\"type\": \"quantitative\", \"field\": \"excess_deaths\"}}, \"height\": 500, \"width\": {\"step\": 10}}, {\"data\": {\"name\": \"data-481968143d9f65841257de91eb280235\"}, \"mark\": {\"type\": \"tick\", \"color\": \"red\", \"thickness\": 2}, \"encoding\": {\"x\": {\"type\": \"nominal\", \"field\": \"week\"}, \"y\": {\"type\": \"quantitative\", \"field\": \"death_per_day\"}}}], \"$schema\": \"https://vega.github.io/schema/vega-lite/v4.8.1.json\", \"datasets\": {\"data-1c0c7636be2c3021a9ac05f457ba1f48\": [{\"country\": \"United States\", \"placename\": \"New York City\", \"frequency\": \"weekly\", \"start_date\": \"2020-01-05\", \"end_date\": \"2020-01-11\", \"year\": 2020, \"month\": 1, \"week\": 2.0, \"deaths\": 1086, \"expected_deaths\": 1194.0, \"excess_deaths\": -108.0, \"baseline\": \"2017-2019 weekly average\"}, {\"country\": \"United States\", \"placename\": \"New York City\", \"frequency\": \"weekly\", \"start_date\": \"2020-01-12\", \"end_date\": \"2020-01-18\", \"year\": 2020, \"month\": 1, \"week\": 3.0, \"deaths\": 1130, \"expected_deaths\": 1145.0, \"excess_deaths\": -15.0, \"baseline\": \"2017-2019 weekly average\"}, {\"country\": \"United States\", \"placename\": \"New York City\", \"frequency\": \"weekly\", \"start_date\": \"2020-01-19\", \"end_date\": \"2020-01-25\", \"year\": 2020, \"month\": 1, \"week\": 4.0, \"deaths\": 1164, \"expected_deaths\": 1191.0, \"excess_deaths\": -27.0, \"baseline\": \"2017-2019 weekly average\"}, {\"country\": \"United States\", \"placename\": \"New York City\", \"frequency\": \"weekly\", \"start_date\": \"2020-01-26\", \"end_date\": \"2020-02-01\", \"year\": 2020, \"month\": 2, \"week\": 5.0, \"deaths\": 1145, \"expected_deaths\": 1137.0, \"excess_deaths\": 8.0, \"baseline\": \"2017-2019 weekly average\"}, {\"country\": \"United States\", \"placename\": \"New York City\", \"frequency\": \"weekly\", \"start_date\": \"2020-02-02\", \"end_date\": \"2020-02-08\", \"year\": 2020, \"month\": 2, \"week\": 6.0, \"deaths\": 1139, \"expected_deaths\": 1199.0, \"excess_deaths\": -60.0, \"baseline\": \"2017-2019 weekly average\"}, {\"country\": \"United States\", \"placename\": \"New York City\", \"frequency\": \"weekly\", \"start_date\": \"2020-02-09\", \"end_date\": \"2020-02-15\", \"year\": 2020, \"month\": 2, \"week\": 7.0, \"deaths\": 1119, \"expected_deaths\": 1123.0, \"excess_deaths\": -4.0, \"baseline\": \"2017-2019 weekly average\"}, {\"country\": \"United States\", \"placename\": \"New York City\", \"frequency\": \"weekly\", \"start_date\": \"2020-02-16\", \"end_date\": \"2020-02-22\", \"year\": 2020, \"month\": 2, \"week\": 8.0, \"deaths\": 1055, \"expected_deaths\": 1069.0, \"excess_deaths\": -14.0, \"baseline\": \"2017-2019 weekly average\"}, {\"country\": \"United States\", \"placename\": \"New York City\", \"frequency\": \"weekly\", \"start_date\": \"2020-02-23\", \"end_date\": \"2020-02-29\", \"year\": 2020, \"month\": 2, \"week\": 9.0, \"deaths\": 1095, \"expected_deaths\": 1059.0, \"excess_deaths\": 36.0, \"baseline\": \"2017-2019 weekly average\"}, {\"country\": \"United States\", \"placename\": \"New York City\", \"frequency\": \"weekly\", \"start_date\": \"2020-03-01\", \"end_date\": \"2020-03-07\", \"year\": 2020, \"month\": 3, \"week\": 10.0, \"deaths\": 1083, \"expected_deaths\": 1075.0, \"excess_deaths\": 8.0, \"baseline\": \"2017-2019 weekly average\"}, {\"country\": \"United States\", \"placename\": \"New York City\", \"frequency\": \"weekly\", \"start_date\": \"2020-03-08\", \"end_date\": \"2020-03-14\", \"year\": 2020, \"month\": 3, \"week\": 11.0, \"deaths\": 1120, \"expected_deaths\": 1078.0, \"excess_deaths\": 42.0, \"baseline\": \"2017-2019 weekly average\"}, {\"country\": \"United States\", \"placename\": \"New York City\", \"frequency\": \"weekly\", \"start_date\": \"2020-03-15\", \"end_date\": \"2020-03-21\", \"year\": 2020, \"month\": 3, \"week\": 12.0, \"deaths\": 1384, \"expected_deaths\": 1031.0, \"excess_deaths\": 353.0, \"baseline\": \"2017-2019 weekly average\"}, {\"country\": \"United States\", \"placename\": \"New York City\", \"frequency\": \"weekly\", \"start_date\": \"2020-03-22\", \"end_date\": \"2020-03-28\", \"year\": 2020, \"month\": 3, \"week\": 13.0, \"deaths\": 2744, \"expected_deaths\": 1027.0, \"excess_deaths\": 1717.0, \"baseline\": \"2017-2019 weekly average\"}, {\"country\": \"United States\", \"placename\": \"New York City\", \"frequency\": \"weekly\", \"start_date\": \"2020-03-29\", \"end_date\": \"2020-04-04\", \"year\": 2020, \"month\": 4, \"week\": 14.0, \"deaths\": 6080, \"expected_deaths\": 1023.0, \"excess_deaths\": 5057.0, \"baseline\": \"2017-2019 weekly average\"}, {\"country\": \"United States\", \"placename\": \"New York City\", \"frequency\": \"weekly\", \"start_date\": \"2020-04-05\", \"end_date\": \"2020-04-11\", \"year\": 2020, \"month\": 4, \"week\": 15.0, \"deaths\": 7741, \"expected_deaths\": 1066.0, \"excess_deaths\": 6675.0, \"baseline\": \"2017-2019 weekly average\"}, {\"country\": \"United States\", \"placename\": \"New York City\", \"frequency\": \"weekly\", \"start_date\": \"2020-04-12\", \"end_date\": \"2020-04-18\", \"year\": 2020, \"month\": 4, \"week\": 16.0, \"deaths\": 5747, \"expected_deaths\": 1011.0, \"excess_deaths\": 4736.0, \"baseline\": \"2017-2019 weekly average\"}, {\"country\": \"United States\", \"placename\": \"New York City\", \"frequency\": \"weekly\", \"start_date\": \"2020-04-19\", \"end_date\": \"2020-04-25\", \"year\": 2020, \"month\": 4, \"week\": 17.0, \"deaths\": 3872, \"expected_deaths\": 978.0, \"excess_deaths\": 2894.0, \"baseline\": \"2017-2019 weekly average\"}, {\"country\": \"United States\", \"placename\": \"New York City\", \"frequency\": \"weekly\", \"start_date\": \"2020-04-26\", \"end_date\": \"2020-05-02\", \"year\": 2020, \"month\": 5, \"week\": 18.0, \"deaths\": 2440, \"expected_deaths\": 999.0, \"excess_deaths\": 1441.0, \"baseline\": \"2017-2019 weekly average\"}, {\"country\": \"United States\", \"placename\": \"New York City\", \"frequency\": \"weekly\", \"start_date\": \"2020-05-03\", \"end_date\": \"2020-05-09\", \"year\": 2020, \"month\": 5, \"week\": 19.0, \"deaths\": 2286, \"expected_deaths\": 985.0, \"excess_deaths\": 1301.0, \"baseline\": \"2017-2019 weekly average\"}, {\"country\": \"United States\", \"placename\": \"New York City\", \"frequency\": \"weekly\", \"start_date\": \"2020-05-10\", \"end_date\": \"2020-05-16\", \"year\": 2020, \"month\": 5, \"week\": 20.0, \"deaths\": 1656, \"expected_deaths\": 1022.0, \"excess_deaths\": 634.0, \"baseline\": \"2017-2019 weekly average\"}], \"data-481968143d9f65841257de91eb280235\": [{\"fips\": 0.0, \"cases\": 643, \"deaths\": 1, \"death_per_day\": 1.0, \"week\": 11}, {\"fips\": 0.0, \"cases\": 15906, \"deaths\": 208, \"death_per_day\": 74.0, \"week\": 12}, {\"fips\": 0.0, \"cases\": 136008, \"deaths\": 2654, \"death_per_day\": 750.0, \"week\": 13}, {\"fips\": 0.0, \"cases\": 338405, \"deaths\": 13537, \"death_per_day\": 2396.0, \"week\": 14}, {\"fips\": 0.0, \"cases\": 589119, \"deaths\": 44539, \"death_per_day\": 5513.0, \"week\": 15}, {\"fips\": 0.0, \"cases\": 843608, \"deaths\": 78770, \"death_per_day\": 3677.0, \"week\": 16}, {\"fips\": 0.0, \"cases\": 1034844, \"deaths\": 104439, \"death_per_day\": 3735.0, \"week\": 17}, {\"fips\": 0.0, \"cases\": 1191385, \"deaths\": 121871, \"death_per_day\": 1875.0, \"week\": 18}, {\"fips\": 0.0, \"cases\": 1288323, \"deaths\": 132418, \"death_per_day\": 1303.0, \"week\": 19}, {\"fips\": 0.0, \"cases\": 1349532, \"deaths\": 138497, \"death_per_day\": 747.0, \"week\": 20}]}}, {\"mode\": \"vega-lite\"});\n</script>",
      "text/plain": "alt.LayerChart(...)"
     },
     "metadata": {},
     "execution_count": 57
    }
   ],
   "source": [
    "(excess_deaths_chart + covid_tick_deaths).configure_view(strokeWidth=0).configure_axis(grid=False)"
   ]
  },
  {
   "cell_type": "markdown",
   "metadata": {},
   "source": [
    "We can see that it captures the trend extremely well and the datapoints are almost exactly the same."
   ]
  },
  {
   "cell_type": "code",
   "execution_count": 56,
   "metadata": {},
   "outputs": [
    {
     "output_type": "execute_result",
     "data": {
      "text/html": "\n<div id=\"altair-viz-46ebd088986f4e7db69c1c6f65242af4\"></div>\n<script type=\"text/javascript\">\n  (function(spec, embedOpt){\n    let outputDiv = document.currentScript.previousElementSibling;\n    if (outputDiv.id !== \"altair-viz-46ebd088986f4e7db69c1c6f65242af4\") {\n      outputDiv = document.getElementById(\"altair-viz-46ebd088986f4e7db69c1c6f65242af4\");\n    }\n    const paths = {\n      \"vega\": \"https://cdn.jsdelivr.net/npm//vega@5?noext\",\n      \"vega-lib\": \"https://cdn.jsdelivr.net/npm//vega-lib?noext\",\n      \"vega-lite\": \"https://cdn.jsdelivr.net/npm//vega-lite@4.8.1?noext\",\n      \"vega-embed\": \"https://cdn.jsdelivr.net/npm//vega-embed@6?noext\",\n    };\n\n    function loadScript(lib) {\n      return new Promise(function(resolve, reject) {\n        var s = document.createElement('script');\n        s.src = paths[lib];\n        s.async = true;\n        s.onload = () => resolve(paths[lib]);\n        s.onerror = () => reject(`Error loading script: ${paths[lib]}`);\n        document.getElementsByTagName(\"head\")[0].appendChild(s);\n      });\n    }\n\n    function showError(err) {\n      outputDiv.innerHTML = `<div class=\"error\" style=\"color:red;\">${err}</div>`;\n      throw err;\n    }\n\n    function displayChart(vegaEmbed) {\n      vegaEmbed(outputDiv, spec, embedOpt)\n        .catch(err => showError(`Javascript Error: ${err.message}<br>This usually means there's a typo in your chart specification. See the javascript console for the full traceback.`));\n    }\n\n    if(typeof define === \"function\" && define.amd) {\n      requirejs.config({paths});\n      require([\"vega-embed\"], displayChart, err => showError(`Error loading script: ${err.message}`));\n    } else if (typeof vegaEmbed === \"function\") {\n      displayChart(vegaEmbed);\n    } else {\n      loadScript(\"vega\")\n        .then(() => loadScript(\"vega-lite\"))\n        .then(() => loadScript(\"vega-embed\"))\n        .catch(showError)\n        .then(() => displayChart(vegaEmbed));\n    }\n  })({\"config\": {\"view\": {\"continuousWidth\": 400, \"continuousHeight\": 300, \"strokeWidth\": 0}, \"axis\": {\"grid\": false}}, \"layer\": [{\"data\": {\"name\": \"data-122be3f8b90c774c1c00dbc31799ed9f\"}, \"mark\": {\"type\": \"rect\", \"fill\": \"#eee\", \"opacity\": 1, \"x2Offset\": 5, \"xOffset\": 5}, \"encoding\": {\"x\": {\"type\": \"nominal\", \"field\": \"start\"}, \"x2\": {\"field\": \"end\"}}}, {\"data\": {\"name\": \"data-1c0c7636be2c3021a9ac05f457ba1f48\"}, \"mark\": {\"type\": \"bar\", \"width\": 9}, \"encoding\": {\"color\": {\"condition\": {\"value\": \"#ffab00\", \"test\": \"(datum.excess_deaths > 0)\"}, \"value\": \"#8FB8BB\"}, \"x\": {\"type\": \"nominal\", \"field\": \"week\"}, \"y\": {\"type\": \"quantitative\", \"field\": \"excess_deaths\"}}, \"height\": 500, \"width\": {\"step\": 10}}, {\"data\": {\"name\": \"data-481968143d9f65841257de91eb280235\"}, \"mark\": {\"type\": \"tick\", \"color\": \"red\", \"thickness\": 2}, \"encoding\": {\"x\": {\"type\": \"nominal\", \"field\": \"week\"}, \"y\": {\"type\": \"quantitative\", \"field\": \"death_per_day\"}}}], \"$schema\": \"https://vega.github.io/schema/vega-lite/v4.8.1.json\", \"datasets\": {\"data-122be3f8b90c774c1c00dbc31799ed9f\": [{\"start\": 11, \"end\": 20}], \"data-1c0c7636be2c3021a9ac05f457ba1f48\": [{\"country\": \"United States\", \"placename\": \"New York City\", \"frequency\": \"weekly\", \"start_date\": \"2020-01-05\", \"end_date\": \"2020-01-11\", \"year\": 2020, \"month\": 1, \"week\": 2.0, \"deaths\": 1086, \"expected_deaths\": 1194.0, \"excess_deaths\": -108.0, \"baseline\": \"2017-2019 weekly average\"}, {\"country\": \"United States\", \"placename\": \"New York City\", \"frequency\": \"weekly\", \"start_date\": \"2020-01-12\", \"end_date\": \"2020-01-18\", \"year\": 2020, \"month\": 1, \"week\": 3.0, \"deaths\": 1130, \"expected_deaths\": 1145.0, \"excess_deaths\": -15.0, \"baseline\": \"2017-2019 weekly average\"}, {\"country\": \"United States\", \"placename\": \"New York City\", \"frequency\": \"weekly\", \"start_date\": \"2020-01-19\", \"end_date\": \"2020-01-25\", \"year\": 2020, \"month\": 1, \"week\": 4.0, \"deaths\": 1164, \"expected_deaths\": 1191.0, \"excess_deaths\": -27.0, \"baseline\": \"2017-2019 weekly average\"}, {\"country\": \"United States\", \"placename\": \"New York City\", \"frequency\": \"weekly\", \"start_date\": \"2020-01-26\", \"end_date\": \"2020-02-01\", \"year\": 2020, \"month\": 2, \"week\": 5.0, \"deaths\": 1145, \"expected_deaths\": 1137.0, \"excess_deaths\": 8.0, \"baseline\": \"2017-2019 weekly average\"}, {\"country\": \"United States\", \"placename\": \"New York City\", \"frequency\": \"weekly\", \"start_date\": \"2020-02-02\", \"end_date\": \"2020-02-08\", \"year\": 2020, \"month\": 2, \"week\": 6.0, \"deaths\": 1139, \"expected_deaths\": 1199.0, \"excess_deaths\": -60.0, \"baseline\": \"2017-2019 weekly average\"}, {\"country\": \"United States\", \"placename\": \"New York City\", \"frequency\": \"weekly\", \"start_date\": \"2020-02-09\", \"end_date\": \"2020-02-15\", \"year\": 2020, \"month\": 2, \"week\": 7.0, \"deaths\": 1119, \"expected_deaths\": 1123.0, \"excess_deaths\": -4.0, \"baseline\": \"2017-2019 weekly average\"}, {\"country\": \"United States\", \"placename\": \"New York City\", \"frequency\": \"weekly\", \"start_date\": \"2020-02-16\", \"end_date\": \"2020-02-22\", \"year\": 2020, \"month\": 2, \"week\": 8.0, \"deaths\": 1055, \"expected_deaths\": 1069.0, \"excess_deaths\": -14.0, \"baseline\": \"2017-2019 weekly average\"}, {\"country\": \"United States\", \"placename\": \"New York City\", \"frequency\": \"weekly\", \"start_date\": \"2020-02-23\", \"end_date\": \"2020-02-29\", \"year\": 2020, \"month\": 2, \"week\": 9.0, \"deaths\": 1095, \"expected_deaths\": 1059.0, \"excess_deaths\": 36.0, \"baseline\": \"2017-2019 weekly average\"}, {\"country\": \"United States\", \"placename\": \"New York City\", \"frequency\": \"weekly\", \"start_date\": \"2020-03-01\", \"end_date\": \"2020-03-07\", \"year\": 2020, \"month\": 3, \"week\": 10.0, \"deaths\": 1083, \"expected_deaths\": 1075.0, \"excess_deaths\": 8.0, \"baseline\": \"2017-2019 weekly average\"}, {\"country\": \"United States\", \"placename\": \"New York City\", \"frequency\": \"weekly\", \"start_date\": \"2020-03-08\", \"end_date\": \"2020-03-14\", \"year\": 2020, \"month\": 3, \"week\": 11.0, \"deaths\": 1120, \"expected_deaths\": 1078.0, \"excess_deaths\": 42.0, \"baseline\": \"2017-2019 weekly average\"}, {\"country\": \"United States\", \"placename\": \"New York City\", \"frequency\": \"weekly\", \"start_date\": \"2020-03-15\", \"end_date\": \"2020-03-21\", \"year\": 2020, \"month\": 3, \"week\": 12.0, \"deaths\": 1384, \"expected_deaths\": 1031.0, \"excess_deaths\": 353.0, \"baseline\": \"2017-2019 weekly average\"}, {\"country\": \"United States\", \"placename\": \"New York City\", \"frequency\": \"weekly\", \"start_date\": \"2020-03-22\", \"end_date\": \"2020-03-28\", \"year\": 2020, \"month\": 3, \"week\": 13.0, \"deaths\": 2744, \"expected_deaths\": 1027.0, \"excess_deaths\": 1717.0, \"baseline\": \"2017-2019 weekly average\"}, {\"country\": \"United States\", \"placename\": \"New York City\", \"frequency\": \"weekly\", \"start_date\": \"2020-03-29\", \"end_date\": \"2020-04-04\", \"year\": 2020, \"month\": 4, \"week\": 14.0, \"deaths\": 6080, \"expected_deaths\": 1023.0, \"excess_deaths\": 5057.0, \"baseline\": \"2017-2019 weekly average\"}, {\"country\": \"United States\", \"placename\": \"New York City\", \"frequency\": \"weekly\", \"start_date\": \"2020-04-05\", \"end_date\": \"2020-04-11\", \"year\": 2020, \"month\": 4, \"week\": 15.0, \"deaths\": 7741, \"expected_deaths\": 1066.0, \"excess_deaths\": 6675.0, \"baseline\": \"2017-2019 weekly average\"}, {\"country\": \"United States\", \"placename\": \"New York City\", \"frequency\": \"weekly\", \"start_date\": \"2020-04-12\", \"end_date\": \"2020-04-18\", \"year\": 2020, \"month\": 4, \"week\": 16.0, \"deaths\": 5747, \"expected_deaths\": 1011.0, \"excess_deaths\": 4736.0, \"baseline\": \"2017-2019 weekly average\"}, {\"country\": \"United States\", \"placename\": \"New York City\", \"frequency\": \"weekly\", \"start_date\": \"2020-04-19\", \"end_date\": \"2020-04-25\", \"year\": 2020, \"month\": 4, \"week\": 17.0, \"deaths\": 3872, \"expected_deaths\": 978.0, \"excess_deaths\": 2894.0, \"baseline\": \"2017-2019 weekly average\"}, {\"country\": \"United States\", \"placename\": \"New York City\", \"frequency\": \"weekly\", \"start_date\": \"2020-04-26\", \"end_date\": \"2020-05-02\", \"year\": 2020, \"month\": 5, \"week\": 18.0, \"deaths\": 2440, \"expected_deaths\": 999.0, \"excess_deaths\": 1441.0, \"baseline\": \"2017-2019 weekly average\"}, {\"country\": \"United States\", \"placename\": \"New York City\", \"frequency\": \"weekly\", \"start_date\": \"2020-05-03\", \"end_date\": \"2020-05-09\", \"year\": 2020, \"month\": 5, \"week\": 19.0, \"deaths\": 2286, \"expected_deaths\": 985.0, \"excess_deaths\": 1301.0, \"baseline\": \"2017-2019 weekly average\"}, {\"country\": \"United States\", \"placename\": \"New York City\", \"frequency\": \"weekly\", \"start_date\": \"2020-05-10\", \"end_date\": \"2020-05-16\", \"year\": 2020, \"month\": 5, \"week\": 20.0, \"deaths\": 1656, \"expected_deaths\": 1022.0, \"excess_deaths\": 634.0, \"baseline\": \"2017-2019 weekly average\"}], \"data-481968143d9f65841257de91eb280235\": [{\"fips\": 0.0, \"cases\": 643, \"deaths\": 1, \"death_per_day\": 1.0, \"week\": 11}, {\"fips\": 0.0, \"cases\": 15906, \"deaths\": 208, \"death_per_day\": 74.0, \"week\": 12}, {\"fips\": 0.0, \"cases\": 136008, \"deaths\": 2654, \"death_per_day\": 750.0, \"week\": 13}, {\"fips\": 0.0, \"cases\": 338405, \"deaths\": 13537, \"death_per_day\": 2396.0, \"week\": 14}, {\"fips\": 0.0, \"cases\": 589119, \"deaths\": 44539, \"death_per_day\": 5513.0, \"week\": 15}, {\"fips\": 0.0, \"cases\": 843608, \"deaths\": 78770, \"death_per_day\": 3677.0, \"week\": 16}, {\"fips\": 0.0, \"cases\": 1034844, \"deaths\": 104439, \"death_per_day\": 3735.0, \"week\": 17}, {\"fips\": 0.0, \"cases\": 1191385, \"deaths\": 121871, \"death_per_day\": 1875.0, \"week\": 18}, {\"fips\": 0.0, \"cases\": 1288323, \"deaths\": 132418, \"death_per_day\": 1303.0, \"week\": 19}, {\"fips\": 0.0, \"cases\": 1349532, \"deaths\": 138497, \"death_per_day\": 747.0, \"week\": 20}]}}, {\"mode\": \"vega-lite\"});\n</script>",
      "text/plain": "alt.LayerChart(...)"
     },
     "metadata": {},
     "execution_count": 56
    }
   ],
   "source": [
    "(rect + excess_deaths_chart + covid_tick_deaths).configure_view(strokeWidth=0).configure_axis(grid=False)"
   ]
  },
  {
   "cell_type": "markdown",
   "metadata": {},
   "source": [
    "#### TODO\n",
    "The rest of the states using the CDC Data"
   ]
  }
 ],
 "metadata": {
  "language_info": {
   "codemirror_mode": {
    "name": "ipython",
    "version": 3
   },
   "file_extension": ".py",
   "mimetype": "text/x-python",
   "name": "python",
   "nbconvert_exporter": "python",
   "pygments_lexer": "ipython3",
   "version": "3.6.9-final"
  },
  "orig_nbformat": 2,
  "kernelspec": {
   "name": "python36964bit8df6c5b502f1432ab396e065781ec007",
   "display_name": "Python 3.6.9 64-bit"
  }
 },
 "nbformat": 4,
 "nbformat_minor": 2
}